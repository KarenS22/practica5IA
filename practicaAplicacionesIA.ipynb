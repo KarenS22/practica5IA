{
 "cells": [
  {
   "cell_type": "markdown",
   "id": "4c324506",
   "metadata": {},
   "source": [
    "### Practica Aplicaciones IA ML DL\n"
   ]
  },
  {
   "cell_type": "markdown",
   "id": "f984b85c",
   "metadata": {},
   "source": [
    "- Problematica\n",
    "\n",
    "    En los supermercados, los clientes a menudo se enfrentan a dificultades cuando intentan obtener información detallada sobre los productos que desean comprar. Ya sea por la falta de información visible o por la necesidad de pedir ayuda a los empleados, el proceso de búsqueda de un producto y la obtención de detalles puede ser lento y frustrante. Esto puede resultar en una experiencia de compra menos eficiente, con clientes que se sienten insatisfechos debido a la falta de información o la demora en obtenerla. Además, en productos alimenticios, los clientes a menudo carecen de ideas sobre cómo utilizar ciertos ingredientes, lo que puede afectar la decisión de compra.\n",
    "\n",
    "    Ademas, personas mayores o con ya reducidas discapacidades visuales, les resulta complicado leer las etiquetas de los productos, lo que dificulta su capacidad para tomar decisiones informadas sobre lo que están comprando. Esto puede llevar a una experiencia de compra menos satisfactoria y a la posibilidad de adquirir productos que no cumplen con sus necesidades o preferencias dietéticas.\n",
    "    "
   ]
  },
  {
   "cell_type": "markdown",
   "id": "8335e0bf",
   "metadata": {},
   "source": [
    "- Justificación \n",
    "\n",
    "    La aplicación propuesta tiene como objetivo abordar estos problemas mediante la implementación de un modelo realizado con CNN para la identificación de productos rápida y eficiente. Al permitir que los clientes tomen una foto de un producto, la aplicación les proporcionará de inmediato información detallada sobre el producto, lo que reduce significativamente el tiempo de búsqueda. Esta mejora en la eficiencia de la compra no solo optimiza la experiencia del cliente, sino que también mejora la fluidez de la interacción con la tienda, ya que los clientes no tendrán que depender de los empleados para obtener respuestas.\n",
    "    Además, la aplicación incorpora un valor agregado al ofrecer recetas relacionadas con productos alimenticios. Esta funcionalidad no solo ayuda a los clientes a explorar nuevas formas de utilizar los productos que ya están considerando, sino que también fomenta compras adicionales al presentar ideas para su compra. \n"
   ]
  },
  {
   "cell_type": "markdown",
   "id": "6eda4534",
   "metadata": {},
   "source": [
    "- Pasos\n",
    "\n",
    "    - Recolección de datos: Recopilar un conjunto de datos de imágenes de productos.\n",
    "    - Preprocesamiento de datos: Limpiar y preparar los datos para el entrenamiento del modelo, incluyendo la normalización y el etiquetado adecuado.\n",
    "    - Desarrollo del modelo: Implementar una red neuronal convolucional (CNN) para la identificación de productos a partir de imágenes, usando modelos preentrenados como ResNet50.\n",
    "    - Entrenamiento del modelo: Entrenar el modelo utilizando el conjunto de datos preparado, ajustando los hiperparámetros según sea necesario.\n",
    "    - Uso de la API de Google Cloud: Integrar la API de Google Cloud para proporcionar información detallada sobre los productos identificados y generar recetas relacionadas.\n",
    "    - Evaluación del modelo: Evaluar la precisión del modelo utilizando un conjunto de datos de prueba y realizar ajustes para mejorar su rendimiento.\n",
    "    - Desarrollo de la aplicación móvil: Crear una aplicación móvil que permita a los usuarios tomar fotos, recibir información sobre productos y explorar recetas.\n",
    "    - Pruebas y validación: Realizar pruebas exhaustivas de la aplicación para garantizar su funcionalidad y usabilidad antes del lanzamiento final.\n"
   ]
  },
  {
   "cell_type": "markdown",
   "id": "c145ee88",
   "metadata": {},
   "source": [
    "- Pasos aplicacion por el usuario\n",
    "\n",
    "    1. **Tomar una foto del producto**: El usuario utiliza la cámara de su dispositivo para tomar una foto del producto que desea identificar.\n",
    "    2. **Procesamiento de la imagen**: La aplicación envía la imagen a un modelo de red neuronal convolucional (CNN) para identificar el producto.\n",
    "    3. **Obtener información del producto**: Una vez identificado, la aplicación muestra información detallada sobre el producto, incluyendo nombre y otros detalles relevantes.\n",
    "    4. **Explorar recetas**: Si el producto es alimenticio, el usuario puede explorar recetas relacionadas con ese producto, lo que le brinda ideas sobre cómo utilizarlo en sus comidas.\n",
    "    5. **Historial de búsqueda**: El usuario puede acceder a un historial de sus búsquedas anteriores para facilitar futuras compras o referencias.\n"
   ]
  },
  {
   "cell_type": "markdown",
   "id": "58219343",
   "metadata": {},
   "source": [
    "<!-- - Descripcion: \n",
    "\n",
    "    Con el sistema a implementar se busca mejorar la experiencia del usuario o cliente. Aplicando en un entorno de supermercado, es indispensable que el cliente pueda acceder a la informacion de un producto de manera rapida y oportuna. Con una aplicacion que te permite tomar foto e identicar el producto se reduce a gran escala el tiempo de busqueda, ya que el usuario no necesitara preguntar a los empleados; simplemente tendran \n",
    "\n",
    "    Además, la interacción con la tienda se vuelve más fluida, permitiendo a los clientes obtener información instantánea sobre los productos, lo que puede aumentar las ventas y la satisfacción general. Un valor agregado importante de esta aplicación es la posibilidad de ofrecer recetas relacionadas con productos alimenticios.  -->\n"
   ]
  },
  {
   "cell_type": "markdown",
   "id": "0844028b",
   "metadata": {},
   "source": [
    "<!-- \n",
    " -->"
   ]
  }
 ],
 "metadata": {
  "language_info": {
   "name": "python"
  }
 },
 "nbformat": 4,
 "nbformat_minor": 5
}
